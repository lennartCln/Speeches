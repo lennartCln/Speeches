{
 "cells": [
  {
   "cell_type": "markdown",
   "metadata": {},
   "source": [
    "## Decoding an 8x8 Block using DCT\n",
    "We will decode and encode a 8x8 pixel block of greyscale values using the 2-dimensional discrete cosine transformation. This is a lookup notebook for a speech about data compression I gave 2018 at University Leipzig. "
   ]
  },
  {
   "cell_type": "code",
   "execution_count": 1,
   "metadata": {},
   "outputs": [],
   "source": [
    "from scipy.fftpack import dct, idct\n",
    "import numpy as np \n",
    "from matplotlib import pyplot\n",
    "from math import sqrt\n",
    "\n",
    "def apply(function, matrix):\n",
    "    \"\"\"\n",
    "    apply a fct on all entries of a matrix\n",
    "    \"\"\"\n",
    "    return np.array([ [function(val) for val in l] for l in matrix])"
   ]
  },
  {
   "cell_type": "markdown",
   "metadata": {},
   "source": [
    "### We want to decode the an 8x8 pixel block with the following greyscale values."
   ]
  },
  {
   "cell_type": "code",
   "execution_count": 2,
   "metadata": {},
   "outputs": [],
   "source": [
    "grey_vals = np.array([\n",
    "     [52, 55, 61, 66, 70, 61, 64, 73],\n",
    "     [63, 59, 55, 90, 109, 85, 69, 72],\n",
    "     [62, 59, 68, 113, 144, 104, 66, 73],\n",
    "     [63, 58, 71, 122, 154, 106, 70, 69],\n",
    "     [67, 61, 68, 104, 126, 88, 68, 70],\n",
    "     [79, 65, 60, 70, 77, 68, 58, 75],\n",
    "     [85, 71, 64, 59, 55, 61, 65, 83],\n",
    "     [87, 79, 69, 68, 65, 76, 78, 94]])\n",
    "\n",
    "dim = len(grey_vals)"
   ]
  },
  {
   "cell_type": "markdown",
   "metadata": {},
   "source": [
    "#### plotting:"
   ]
  },
  {
   "cell_type": "code",
   "execution_count": 3,
   "metadata": {},
   "outputs": [
    {
     "data": {
      "image/png": "[encoded data removed]",
      "text/plain": [
       "<Figure size 432x288 with 1 Axes>"
      ]
     },
     "metadata": {
      "needs_background": "light"
     },
     "output_type": "display_data"
    }
   ],
   "source": [
    "im = pyplot.imshow(X = grey_vals, cmap='gray')"
   ]
  },
  {
   "cell_type": "markdown",
   "metadata": {},
   "source": [
    "### Shift the greyscale from [0, 255] to [-128, 127]."
   ]
  },
  {
   "cell_type": "code",
   "execution_count": 4,
   "metadata": {},
   "outputs": [
    {
     "data": {
      "text/plain": [
       "array([[-76, -73, -67, -62, -58, -67, -64, -55],\n",
       "       [-65, -69, -73, -38, -19, -43, -59, -56],\n",
       "       [-66, -69, -60, -15,  16, -24, -62, -55],\n",
       "       [-65, -70, -57,  -6,  26, -22, -58, -59],\n",
       "       [-61, -67, -60, -24,  -2, -40, -60, -58],\n",
       "       [-49, -63, -68, -58, -51, -60, -70, -53],\n",
       "       [-43, -57, -64, -69, -73, -67, -63, -45],\n",
       "       [-41, -49, -59, -60, -63, -52, -50, -34]])"
      ]
     },
     "execution_count": 4,
     "metadata": {},
     "output_type": "execute_result"
    }
   ],
   "source": [
    "shifted = apply(lambda x: x-128, grey_vals)\n",
    "shifted"
   ]
  },
  {
   "cell_type": "markdown",
   "metadata": {},
   "source": [
    "### 2-dim Dicrete Cosine Transformation (DCT)\n",
    "Decompose the image in its frequencies using the 2-dim DCT"
   ]
  },
  {
   "cell_type": "code",
   "execution_count": 5,
   "metadata": {},
   "outputs": [],
   "source": [
    "# 2-dim dct\n",
    "dct_mtx = dct(x=dct(x=shifted.T, type=2).T, type= 2)\n",
    "\n",
    "# standartization\n",
    "dct_mtx = apply(lambda x: x/(8*2*sqrt(2)), dct_mtx)\n",
    "for i in range(dim):\n",
    "    dct_mtx[i][i] = dct_mtx[i][i] / sqrt(2)\n",
    "    \n",
    "apply(lambda x: int(x), dct_mtx)"
   ]
  },
  {
   "cell_type": "markdown",
   "metadata": {},
   "source": [
    "### Quantization\n",
    "We dived the matrix, which represents the frequencies --dct_mtx-- with a quantization matrix, and afterward, we will round every entry of the resulting matrix down. Hence, by the shape of the quantization matrix, the matrix entries that correspond to the higher frequencies are likely to be zero. Remark that the rounding is the lossy part of the decoding. "
   ]
  },
  {
   "cell_type": "code",
   "execution_count": 6,
   "metadata": {},
   "outputs": [
    {
     "data": {
      "text/plain": [
       "array([[-831,  -62, -138,   39,   53,  -11,   -1,    0],\n",
       "       [   8,  -29,  -69,    9,    8,   -2,   -2,    1],\n",
       "       [ -76,    9,   77,  -16,  -12,    3,    1,   -2],\n",
       "       [ -78,   11,   25,   -8,   -3,    1,    0,    1],\n",
       "       [  15,   -5,   -6,   -1,    0,    0,    0,    1],\n",
       "       [  -7,    1,    1,   -1,    0,    0,    1,    0],\n",
       "       [   0,    0,    0,    0,    0,    0,    1,    0],\n",
       "       [   0,    0,    0,   -1,    0,    0,    0,    0]])"
      ]
     },
     "execution_count": 6,
     "metadata": {},
     "output_type": "execute_result"
    }
   ],
   "source": [
    "# quantization matrix\n",
    "Q = np.array([\n",
    "    [ 16, 11, 10, 16, 24, 40, 51, 61],\n",
    "    [ 12, 12, 14 ,19, 26, 58, 60, 55],\n",
    "    [ 14, 13, 16, 24, 40, 57, 69, 56],\n",
    "    [ 14, 17, 22, 29, 51, 87, 80, 62],\n",
    "    [ 18, 22, 37, 56, 68,109,103, 77],\n",
    "    [ 24, 35, 55, 64, 81,104,113, 92],\n",
    "    [ 49, 64, 78, 87,103,121,120,101],\n",
    "    [ 72, 92, 95, 98,112,100,103, 99]])\n",
    "\n",
    "# devide every enty of G by the corresponding entry of Q \n",
    "for i in range(dim):\n",
    "    for k in range(dim):\n",
    "        dct_mtx[i][k] = dct_mtx[i][k]/Q[i][k]\n",
    "        \n",
    "# and round every entry down \n",
    "decoded_mtx = apply(round, dct_mtx)\n",
    "decoded_mtx = apply(lambda x: int(x), decoded_mtx)\n",
    "decoded_mtx"
   ]
  },
  {
   "cell_type": "markdown",
   "metadata": {},
   "source": [
    "## Done!\n",
    "Well, more or less. One may now obtain that most non-zero values are in the upper left triangle. Hence, one can decode this matrix efficiently. For instance by storing all non-zero entries in a triangle que, i.e., \n",
    "[-26, -3, 0, -3, -1, -6, 2, -3, 0, -3, ...]."
   ]
  },
  {
   "cell_type": "markdown",
   "metadata": {},
   "source": [
    "## Encoding\n",
    "A rollback of the transformations gives us a similar image."
   ]
  },
  {
   "cell_type": "code",
   "execution_count": 16,
   "metadata": {},
   "outputs": [
    {
     "data": {
      "image/png": "[encoded data removed]",
      "text/plain": [
       "<Figure size 432x288 with 1 Axes>"
      ]
     },
     "metadata": {
      "needs_background": "light"
     },
     "output_type": "display_data"
    }
   ],
   "source": [
    "mtx = idct(x=idct(x=decoded_mtx.T, type=2).T, type= 2)\n",
    "im_back = pyplot.imshow(X = mtx, cmap='gray')"
   ]
  }
 ],
 "metadata": {
  "kernelspec": {
   "display_name": "Python 3",
   "language": "python",
   "name": "python3"
  },
  "language_info": {
   "codemirror_mode": {
    "name": "ipython",
    "version": 3
   },
   "file_extension": ".py",
   "mimetype": "text/x-python",
   "name": "python",
   "nbconvert_exporter": "python",
   "pygments_lexer": "ipython3",
   "version": "3.8.3"
  }
 },
 "nbformat": 4,
 "nbformat_minor": 2
}
