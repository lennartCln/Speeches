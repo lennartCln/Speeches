{
 "cells": [
  {
   "cell_type": "markdown",
   "metadata": {},
   "source": [
    "## decoding an 8x8 Block by DCT"
   ]
  },
  {
   "cell_type": "code",
   "execution_count": 1,
   "metadata": {},
   "outputs": [],
   "source": [
    "#necessary packages:\n",
    "from scipy.fftpack import dct\n",
    "import numpy as np \n",
    "from matplotlib import pyplot\n",
    "\n",
    "def apply_on_matrix_entries(function, matrix):\n",
    "    \"\"\"\n",
    "    apply a fct on all entries of a matrix\n",
    "    \"\"\"\n",
    "    return [ [function(val) for val in l] for l in matrix]"
   ]
  },
  {
   "cell_type": "markdown",
   "metadata": {},
   "source": [
    "### we want to decode the an 8x8 pixel block with the following greyscale values"
   ]
  },
  {
   "cell_type": "code",
   "execution_count": 2,
   "metadata": {},
   "outputs": [],
   "source": [
    "grey_values = np.array([\n",
    "     [52, 55, 61, 66, 70, 61, 64, 73],\n",
    "     [63, 59, 55, 90, 109, 85, 69, 72],\n",
    "     [62, 59, 68, 113, 144, 104, 66, 73],\n",
    "     [63, 58, 71, 122, 154, 106, 70, 69],\n",
    "     [67, 61, 68, 104, 126, 88, 68, 70],\n",
    "     [79, 65, 60, 70, 77, 68, 58, 75],\n",
    "     [85, 71, 64, 59, 55, 61, 65, 83],\n",
    "     [87, 79, 69, 68, 65, 76, 78, 94]])"
   ]
  },
  {
   "cell_type": "markdown",
   "metadata": {},
   "source": [
    "### plot the image"
   ]
  },
  {
   "cell_type": "code",
   "execution_count": 3,
   "metadata": {},
   "outputs": [
    {
     "data": {
      "image/png": "[encoded data removed]",
      "text/plain": [
       "<matplotlib.figure.Figure at 0x7fd08aefecf8>"
      ]
     },
     "metadata": {},
     "output_type": "display_data"
    }
   ],
   "source": [
    "im = pyplot.imshow(X = grey_values, cmap='gray')"
   ]
  },
  {
   "cell_type": "markdown",
   "metadata": {},
   "source": [
    "### shift the greyscale from [0, 255] to [-128, 127]"
   ]
  },
  {
   "cell_type": "code",
   "execution_count": 69,
   "metadata": {},
   "outputs": [
    {
     "data": {
      "text/plain": [
       "array([[-76, -73, -67, -62, -58, -67, -64, -55],\n",
       "       [-65, -69, -73, -38, -19, -43, -59, -56],\n",
       "       [-66, -69, -60, -15,  16, -24, -62, -55],\n",
       "       [-65, -70, -57,  -6,  26, -22, -58, -59],\n",
       "       [-61, -67, -60, -24,  -2, -40, -60, -58],\n",
       "       [-49, -63, -68, -58, -51, -60, -70, -53],\n",
       "       [-43, -57, -64, -69, -73, -67, -63, -45],\n",
       "       [-41, -49, -59, -60, -63, -52, -50, -34]])"
      ]
     },
     "execution_count": 69,
     "metadata": {},
     "output_type": "execute_result"
    }
   ],
   "source": [
    "shifted_greyscale = apply_on_matrix_entries(lambda x: x-128, b)\n",
    "shifted_greyscale = np.array(shifted_greyscale)\n",
    "shifted_greyscale"
   ]
  },
  {
   "cell_type": "markdown",
   "metadata": {},
   "source": [
    "### 2-dim dicrete cosine transformation (DCT)"
   ]
  },
  {
   "cell_type": "code",
   "execution_count": 81,
   "metadata": {},
   "outputs": [
    {
     "data": {
      "text/plain": [
       "[[-415.4, -30.2, -61.2, 27.2, 56.1, -20.1, -2.4, 0.5],\n",
       " [4.5, -10.9, -43.0, 7.3, 9.3, -5.0, -6.0, 3.4],\n",
       " [-46.8, 5.2, 38.6, -17.4, -20.4, 7.0, 3.8, -4.0],\n",
       " [-48.5, 8.5, 24.1, -7.4, -7.2, 4.5, 1.3, 1.4],\n",
       " [12.1, -4.6, -9.3, -2.8, -0.9, 1.2, -2.0, 2.2],\n",
       " [-7.7, 2.1, 1.7, -4.2, -1.7, 0.5, 3.0, 1.3],\n",
       " [-1.0, 0.1, 0.3, -1.7, -0.6, -2.1, 2.1, -0.5],\n",
       " [-0.2, 0.1, -0.8, -3.0, -0.8, -0.1, 0.4, 0.8]]"
      ]
     },
     "execution_count": 81,
     "metadata": {},
     "output_type": "execute_result"
    }
   ],
   "source": [
    "#2-dim dct\n",
    "G = dct(x=dct(x=shifted_greyscale.T, type=2).T, type= 2)\n",
    "#different standartization\n",
    "G = apply_on_matrix_entries(lambda x: x/(8*2*sqrt(2)), G)\n",
    "for i in range(len(G)):\n",
    "    G[i][i] = G[i][i] / sqrt(2)\n",
    "apply_on_matrix_entries(lambda x: round(x,1), G)"
   ]
  },
  {
   "cell_type": "markdown",
   "metadata": {},
   "source": [
    "### quantization"
   ]
  },
  {
   "cell_type": "code",
   "execution_count": 82,
   "metadata": {},
   "outputs": [
    {
     "data": {
      "text/plain": [
       "[[-26, -3, -6, 2, 2, -1, 0, 0],\n",
       " [0, -1, -3, 0, 0, 0, 0, 0],\n",
       " [-3, 0, 2, -1, -1, 0, 0, 0],\n",
       " [-3, 1, 1, 0, 0, 0, 0, 0],\n",
       " [1, 0, 0, 0, 0, 0, 0, 0],\n",
       " [0, 0, 0, 0, 0, 0, 0, 0],\n",
       " [0, 0, 0, 0, 0, 0, 0, 0],\n",
       " [0, 0, 0, 0, 0, 0, 0, 0]]"
      ]
     },
     "execution_count": 82,
     "metadata": {},
     "output_type": "execute_result"
    }
   ],
   "source": [
    "# quantization matrix\n",
    "Q = [\n",
    "    [ 16, 11, 10, 16, 24, 40, 51, 61],\n",
    "    [ 12, 12, 14 ,19, 26, 58, 60, 55],\n",
    "    [ 14, 13, 16, 24, 40, 57, 69, 56],\n",
    "    [ 14, 17, 22, 29, 51, 87, 80, 62],\n",
    "    [ 18, 22, 37, 56, 68,109,103, 77],\n",
    "    [ 24, 35, 55, 64, 81,104,113, 92],\n",
    "    [ 49, 64, 78, 87,103,121,120,101],\n",
    "    [ 72, 92, 95, 98,112,100,103, 99]]\n",
    "\n",
    "# devide every enty of G by the corresponding entry of Q\n",
    "for i in range(8):\n",
    "    for k in range(8):\n",
    "        G[i][k] = G[i][k]/Q[i][k]\n",
    "G = apply_on_matrix_entries(lambda x: round(x), G)\n",
    "G = apply_on_matrix_entries(lambda x: int(x), G)\n",
    "G"
   ]
  },
  {
   "cell_type": "markdown",
   "metadata": {},
   "source": [
    "#### Since most non zero values are now in the upper left triangle, one can decode this matrix efficiently"
   ]
  }
 ],
 "metadata": {
  "kernelspec": {
   "display_name": "Python 3",
   "language": "python",
   "name": "python3"
  },
  "language_info": {
   "codemirror_mode": {
    "name": "ipython",
    "version": 3
   },
   "file_extension": ".py",
   "mimetype": "text/x-python",
   "name": "python",
   "nbconvert_exporter": "python",
   "pygments_lexer": "ipython3",
   "version": "3.6.3"
  }
 },
 "nbformat": 4,
 "nbformat_minor": 2
}
